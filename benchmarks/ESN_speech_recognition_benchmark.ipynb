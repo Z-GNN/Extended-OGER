{
 "cells": [
  {
   "cell_type": "markdown",
   "metadata": {},
   "source": [
    "# Benchmark ESNs using Spoken Arabic Digit Dataset\n",
    "\n",
    "Dataset url: https://archive.ics.uci.edu/ml/datasets/Spoken+Arabic+Digit\n",
    "\n",
    "I have written many functions to facilitate the execution of the code. Each function has detailed documentation."
   ]
  },
  {
   "cell_type": "markdown",
   "metadata": {},
   "source": [
    "Installed required modules in Azure. Note that Oger install file must be uploaded to AZURE manually before running these commands.\n",
    "\n",
    "(For some reason as of 24.08.2017 Azure no longer accepts the \"!pip install Oger-1.2.tar.gz\". This is probably due to some update.)\n",
    "\n",
    "If NOT running in Azure ignore this step!"
   ]
  },
  {
   "cell_type": "code",
   "execution_count": 1,
   "metadata": {},
   "outputs": [
    {
     "name": "stdout",
     "output_type": "stream",
     "text": [
      "Collecting mdp\n",
      "  Downloading MDP-3.5-py2.py3-none-any.whl (365kB)\n",
      "\u001b[K    100% |################################| 368kB 2.1MB/s ta 0:00:01\n",
      "\u001b[?25hRequirement already satisfied: numpy in /home/nbcommon/anaconda2_410/lib/python2.7/site-packages (from mdp)\n",
      "Requirement already satisfied: future in /home/nbcommon/anaconda2_410/lib/python2.7/site-packages (from mdp)\n",
      "Installing collected packages: mdp\n",
      "Successfully installed mdp-3.5\n",
      "Processing ./Oger-1.1.2_azure_BETA.tar.gz\n",
      "Building wheels for collected packages: Oger\n",
      "  Running setup.py bdist_wheel for Oger ... \u001b[?25l-\b \bdone\n",
      "\u001b[?25h  Stored in directory: /home/nbuser/.cache/pip/wheels/e7/4c/ab/1e62b0065991eb8e45fa5e228659261e8d7b5826f27054e4a6\n",
      "Successfully built Oger\n",
      "Installing collected packages: Oger\n",
      "Successfully installed Oger-1.1.2\n"
     ]
    }
   ],
   "source": [
    "!pip install mdp\n",
    "!pip install Oger-1.2.tar.gz"
   ]
  },
  {
   "cell_type": "code",
   "execution_count": 2,
   "metadata": {},
   "outputs": [
    {
     "name": "stderr",
     "output_type": "stream",
     "text": [
      "/home/nbuser/anaconda2_410/lib/python2.7/site-packages/sklearn/cross_validation.py:44: DeprecationWarning: This module was deprecated in version 0.18 in favor of the model_selection module into which all the refactored classes and functions are moved. Also note that the interface of the new CV iterators are different from that of this module. This module will be removed in 0.20.\n",
      "  \"This module will be removed in 0.20.\", DeprecationWarning)\n",
      "/home/nbuser/anaconda2_410/lib/python2.7/site-packages/sklearn/grid_search.py:43: DeprecationWarning: This module was deprecated in version 0.18 in favor of the model_selection module into which all the refactored classes and functions are moved. This module will be removed in 0.20.\n",
      "  DeprecationWarning)\n",
      "/home/nbuser/anaconda2_410/lib/python2.7/site-packages/sklearn/learning_curve.py:23: DeprecationWarning: This module was deprecated in version 0.18 in favor of the model_selection module into which all the functions are moved. This module will be removed in 0.20\n",
      "  DeprecationWarning)\n",
      "/home/nbuser/anaconda2_410/lib/python2.7/site-packages/matplotlib/font_manager.py:273: UserWarning: Matplotlib is building the font cache using fc-list. This may take a moment.\n",
      "  warnings.warn('Matplotlib is building the font cache using fc-list. This may take a moment.')\n"
     ]
    }
   ],
   "source": [
    "import Oger\n",
    "import mdp\n",
    "import numpy as np\n",
    "\n",
    "from matplotlib import pyplot as plt\n",
    "from sklearn.metrics import confusion_matrix\n",
    "import itertools"
   ]
  },
  {
   "cell_type": "markdown",
   "metadata": {},
   "source": [
    "Helper function to load the files of the dataset."
   ]
  },
  {
   "cell_type": "code",
   "execution_count": 3,
   "metadata": {
    "collapsed": true
   },
   "outputs": [],
   "source": [
    "def _load_file(filename):\n",
    "    \"\"\"\n",
    "    Loads a file from the 'Spoken Arabic Digit Data Set'.\n",
    "    (https://archive.ics.uci.edu/ml/datasets/Spoken+Arabic+Digit)\n",
    "    \n",
    "    The format of these files is specific. According to the documentation lines \n",
    "    are organized into blocks, which are a set of 4-93 lines separated by blank \n",
    "    lines and corresponds to a single speech utterance of a spoken Arabic \n",
    "    digit with 4-93 frames. Each spoken digit is a set of consecutive blocks.\n",
    "    \n",
    "    Since blocks are 4-93 frames, the blocks that have less frames than the\n",
    "    maximum (93) will be padded with zeros. Each block is transformed into a\n",
    "    2D numpy array and added to the blocks list. The blocks list is returned.\n",
    "    \n",
    "    Parameters\n",
    "    ----------\n",
    "    filename : string\n",
    "            the path and name of the file to load\n",
    "    \n",
    "    Returns\n",
    "    -------\n",
    "    blocks : list of 2D numpy arrays\n",
    "            the list with all the blocks transformed into 2D numpy arrays\n",
    "                padded with zeros, if required\n",
    "    \"\"\"\n",
    "    empty_lines = 0\n",
    "    blocks = []\n",
    "    with open(filename) as loaded_file:\n",
    "        for line in loaded_file:\n",
    "            if not line.strip():\n",
    "                # if first empty line start a new block\n",
    "                if empty_lines == 0:\n",
    "                    block = np.zeros([93, 13])\n",
    "                    i = 0\n",
    "                # save current block and start a new one\n",
    "                else:\n",
    "                    blocks.append(block)\n",
    "                    block = np.zeros([93, 13])\n",
    "                    i = 0\n",
    "                    \n",
    "                empty_lines += 1\n",
    "                \n",
    "            else:\n",
    "                block[i, :] = np.array(line.replace('\\n', '').split(' '), dtype='|S10').astype(np.float)\n",
    "                i += 1           \n",
    "        else:\n",
    "            # add last block\n",
    "            blocks.append(block)\n",
    "            \n",
    "    return blocks"
   ]
  },
  {
   "cell_type": "code",
   "execution_count": 4,
   "metadata": {
    "collapsed": true
   },
   "outputs": [],
   "source": [
    "def _transform_X_matrix(X, per_coefficients=True):\n",
    "    \"\"\"\n",
    "    Transforms a list of 2D numpy arrays into a 2D numpy array by reshaping the\n",
    "    2D numpy arrays of the list into a 1D arrays.\n",
    "    \n",
    "    Parameters\n",
    "    ----------\n",
    "    X : list of 2D numpy arrays\n",
    "            the list to be transformed\n",
    "            \n",
    "    per_coefficients : boolean\n",
    "            parameter than controls the way the reshaping happens\n",
    "                True : the created 1D arrays are the sequence of the chance of\n",
    "                    the 13 Mel Frequency Cepstral Coefficients (MFCCs) over the\n",
    "                    time of digit utterance\n",
    "                False : the created 1D arrays are the sequence of the frames of\n",
    "                    the digit utterance\n",
    "    \n",
    "    Returns\n",
    "    -------\n",
    "    X_reshaped : 2D numpy array\n",
    "            2D array where each line is a flattened block\n",
    "    \"\"\"\n",
    "    X_reshaped = np.zeros([len(X), len(X[0][0,:])*len(X[0][:,0])])\n",
    "    if per_coefficients:\n",
    "        for i, block in enumerate(X):\n",
    "            X_reshaped[i, :] = np.reshape(block.T, \n",
    "                                    (len(X[0][0,:])*len(X[0][:,0]))) # 13*93\n",
    "    else:\n",
    "        for i, block in enumerate(X):\n",
    "            X_reshaped[i, :] = np.reshape(block, \n",
    "                                    (len(X[0][0,:])*len(X[0][:,0])))\n",
    "            \n",
    "    return X_reshaped"
   ]
  },
  {
   "cell_type": "code",
   "execution_count": 5,
   "metadata": {
    "collapsed": true
   },
   "outputs": [],
   "source": [
    "def correctly_format_data(X_train, y_train):\n",
    "    \"\"\"\n",
    "    Correctly formats and returns the data required for training by Oger.\n",
    "    \n",
    "    Parameters\n",
    "    ----------\n",
    "    X_train : the features matrix. (numpy 2d array)\n",
    "    \n",
    "    y_train : target values (class labels). (numpy 1d array)\n",
    "    \"\"\"\n",
    "    x_correct = []\n",
    "    for row in X_train:\n",
    "        x_correct.append(row[np.newaxis, :])\n",
    "    y_correct = []\n",
    "    if y_train.ndim == 1:\n",
    "        for elem in y_train:\n",
    "            y_correct.append(np.array([elem])[:, np.newaxis])\n",
    "    else:\n",
    "        for elem in y_train:\n",
    "            y_correct.append(np.array([elem]))#[:, np.newaxis])\n",
    "    data = [[], zip(x_correct, y_correct)]\n",
    "    \n",
    "    return data"
   ]
  },
  {
   "cell_type": "code",
   "execution_count": 6,
   "metadata": {
    "collapsed": true
   },
   "outputs": [],
   "source": [
    "def select_classification_of_digits(y_predict):\n",
    "    \"\"\"\n",
    "    Takes the classifications of every network and selects the winner.\n",
    "    \n",
    "    Parameters\n",
    "    ----------\n",
    "    y_predict : 2D numpy array\n",
    "            the unthresholded predictions of the networks\n",
    "            \n",
    "    Returns\n",
    "    -------\n",
    "    1D numpy array of the best matching classification for every test sample\n",
    "    \"\"\"\n",
    "    return np.argmax(y_predict, axis=1)"
   ]
  },
  {
   "cell_type": "code",
   "execution_count": 7,
   "metadata": {
    "collapsed": true
   },
   "outputs": [],
   "source": [
    "def calculate_accuracy(y_predict, y_test):\n",
    "    \"\"\"\n",
    "    TODO: write\n",
    "    \"\"\"\n",
    "    if y_predict.ndim == y_test.ndim:\n",
    "        accuracy = float(np.sum(y_predict == y_test)) / len(y_test)\n",
    "    elif y_predict.ndim > y_test.ndim:\n",
    "        accuracy = float(np.sum(y_predict == y_test[:, np.newaxis])\n",
    "                                                                ) / len(y_test)\n",
    "    elif y_predict.ndim < y_test.ndim: # TODO: replace with else?\n",
    "        accuracy = float(np.sum(y_predict[:, np.newaxis] == y_test)\n",
    "                                                                ) / len(y_test)\n",
    "    return accuracy"
   ]
  },
  {
   "cell_type": "markdown",
   "metadata": {},
   "source": [
    "Load the speech blocks contained in the train and test files."
   ]
  },
  {
   "cell_type": "code",
   "execution_count": 9,
   "metadata": {
    "collapsed": true
   },
   "outputs": [],
   "source": [
    "train_blocks = _load_file('Train_Arabic_Digit.txt')\n",
    "test_blocks = _load_file('Test_Arabic_Digit.txt')"
   ]
  },
  {
   "cell_type": "markdown",
   "metadata": {},
   "source": [
    "Create the corresponding classes for each block. (see Dataset repository for more details)"
   ]
  },
  {
   "cell_type": "code",
   "execution_count": 10,
   "metadata": {
    "collapsed": true
   },
   "outputs": [],
   "source": [
    "y_train = np.zeros([6600])\n",
    "for digit, i in enumerate(range(0, 6600, 660)):\n",
    "    y_train[i: i + 660] = digit\n",
    "    \n",
    "y_test = np.zeros([2200])\n",
    "for digit, i in enumerate(range(0, 2200, 220)):\n",
    "    y_test[i: i + 220] = digit"
   ]
  },
  {
   "cell_type": "markdown",
   "metadata": {},
   "source": [
    "Transform the blocks into proper 1D arrays (using a helper function) to be used for machine learning. False flag means that the arrays are the sequence of the frames of the digit utterance. If set true then it would be the the sequence of the chance of the 13 Mel Frequency Cepstral Coefficients (MFCCs) over the time of digit utterance."
   ]
  },
  {
   "cell_type": "code",
   "execution_count": 11,
   "metadata": {
    "collapsed": true
   },
   "outputs": [],
   "source": [
    "X_train = _transform_X_matrix(train_blocks, False)\n",
    "X_test = _transform_X_matrix(test_blocks, False)"
   ]
  },
  {
   "cell_type": "markdown",
   "metadata": {},
   "source": [
    "I will use the same reservoir but a seperate output for every digits as described in the literature. Each output will be trained using binary data for the corresponding digit. For this reason the X_train data must be modified for every output. Example: output for digit 0 will be trained with data where digit 0 gives output 1 and all other digits -1."
   ]
  },
  {
   "cell_type": "code",
   "execution_count": 12,
   "metadata": {
    "collapsed": true
   },
   "outputs": [],
   "source": [
    "# create binary data for each digit for each flow\n",
    "y_train_multiple = (-1) * np.ones([len(y_train), 10])\n",
    "y_test_multiple = (-1) * np.ones([len(y_test), 10])\n",
    "for i in range(10):\n",
    "    for j, digit in enumerate(y_train):\n",
    "        if digit == i:\n",
    "            y_train_multiple[j, i] = 1\n",
    "            \n",
    "    for j, digit in enumerate(y_test):\n",
    "        if digit == i:\n",
    "            y_test_multiple[j, i] = 1"
   ]
  },
  {
   "cell_type": "markdown",
   "metadata": {},
   "source": [
    "# Example run"
   ]
  },
  {
   "cell_type": "code",
   "execution_count": 13,
   "metadata": {
    "collapsed": true
   },
   "outputs": [],
   "source": [
    "# create reservoir\n",
    "reservoir = Oger.nodes.ReservoirNode(len(X_train[0, :]), 100, \n",
    "             input_scaling=0.5)\n",
    "\n",
    "# create a flow per digit\n",
    "flows = []\n",
    "for i in range(10):\n",
    "    readout = Oger.nodes.RidgeRegressionNode(10e-9, verbose=True)\n",
    "    flow = mdp.Flow([reservoir, readout], verbose=0)\n",
    "    flows.append(flow)"
   ]
  },
  {
   "cell_type": "code",
   "execution_count": 14,
   "metadata": {
    "collapsed": true
   },
   "outputs": [],
   "source": [
    "# train each flow to corresponding digit\n",
    "for i, flow in enumerate(flows):\n",
    "    data = correctly_format_data(X_train, y_train_multiple[:, i])\n",
    "    flow.train(data)"
   ]
  },
  {
   "cell_type": "code",
   "execution_count": 15,
   "metadata": {
    "collapsed": true
   },
   "outputs": [],
   "source": [
    "# predict digit using all flows\n",
    "y_predict_mult = np.zeros(shape=y_test_multiple.shape)\n",
    "for i, flow in enumerate(flows):\n",
    "    y_predict = flow(X_test)\n",
    "    y_predict_mult[:, i] = y_predict[:, 0]"
   ]
  },
  {
   "cell_type": "code",
   "execution_count": 16,
   "metadata": {},
   "outputs": [
    {
     "name": "stdout",
     "output_type": "stream",
     "text": [
      "Accuracy:  0.881363636364\n",
      "WER: 0.118636363636\n"
     ]
    }
   ],
   "source": [
    "#y_test = y_test[:, np.newaxis]\n",
    "\n",
    "y_predict_single = select_classification_of_digits(y_predict_mult)\n",
    "accuracy = calculate_accuracy(y_predict_single, y_test)\n",
    "\n",
    "print \"Accuracy: \", accuracy\n",
    "print \"WER:\", (1 - accuracy)"
   ]
  },
  {
   "cell_type": "markdown",
   "metadata": {},
   "source": [
    "# Plot the confusion matrix"
   ]
  },
  {
   "cell_type": "code",
   "execution_count": 71,
   "metadata": {
    "collapsed": true
   },
   "outputs": [],
   "source": [
    "def plot_confusion_matrix(cm, classes,\n",
    "                          normalize=False,\n",
    "                          title='Confusion matrix',\n",
    "                          cmap=plt.cm.Greys):\n",
    "    \"\"\"\n",
    "    This function prints and plots the confusion matrix.\n",
    "    Normalization can be applied by setting `normalize=True`.\n",
    "    \"\"\"\n",
    "    if normalize:\n",
    "        cm = cm.astype('float') / cm.sum(axis=1)[:, np.newaxis]\n",
    "        print(\"Normalized confusion matrix\")\n",
    "    else:\n",
    "        print('Confusion matrix, without normalization')\n",
    "\n",
    "    print(cm)\n",
    "    \n",
    "    plt.imshow(cm, interpolation='nearest', cmap=cmap, vmax=1.)\n",
    "    plt.title(title)\n",
    "    plt.colorbar()\n",
    "    tick_marks = np.arange(len(classes))\n",
    "    plt.xticks(tick_marks, classes, rotation=45)\n",
    "    plt.yticks(tick_marks, classes)\n",
    "    plt.tick_params(which = 'both', direction = 'out')\n",
    "\n",
    "    thresh = cm.max() / 2.\n",
    "    for i, j in itertools.product(range(cm.shape[0]), range(cm.shape[1])):\n",
    "        if normalize:\n",
    "            plt.text(j, i, format(cm[i, j], '.2f'),\n",
    "                     horizontalalignment=\"center\",\n",
    "                     color=\"white\" if cm[i, j] > thresh else \"black\",\n",
    "                    size = 8)\n",
    "        else:\n",
    "            plt.text(j, i, cm[i, j],\n",
    "                     horizontalalignment=\"center\",\n",
    "                     color=\"white\" if cm[i, j] > thresh else \"black\")    \n",
    "\n",
    "    #plt.tight_layout()\n",
    "    plt.ylabel('True label')\n",
    "    plt.xlabel('Predicted label')\n",
    "    plt.show()#savefig('test.png')"
   ]
  },
  {
   "cell_type": "code",
   "execution_count": 18,
   "metadata": {
    "collapsed": true
   },
   "outputs": [],
   "source": [
    "# Compute confusion matrix\n",
    "cnf_matrix = confusion_matrix(y_test, y_predict_single)\n",
    "np.set_printoptions(precision=2)\n",
    "class_names = ['0', '1', '2', '3', '4', '5', '6', '7', '8', '9']"
   ]
  },
  {
   "cell_type": "code",
   "execution_count": 55,
   "metadata": {},
   "outputs": [
    {
     "name": "stdout",
     "output_type": "stream",
     "text": [
      "Confusion matrix, without normalization\n",
      "[[142   5   2   1   7   7  11  23   0  22]\n",
      " [  0 214   2   1   0   0   0   2   1   0]\n",
      " [  0   7 197   1   4   1   1   1   1   7]\n",
      " [  2   3   3 203   3   0   0   0   6   0]\n",
      " [  2   0   0   0 215   1   0   2   0   0]\n",
      " [  6   6   0   2  11 182   9   1   2   1]\n",
      " [  9   1   1   2   0   5 197   3   1   1]\n",
      " [  5   2   3   0  13   0   2 183   8   4]\n",
      " [  0   3   0   9   2   2   0   1 203   0]\n",
      " [  0   0  10   0   1   0   0   6   0 203]]\n"
     ]
    },
    {
     "data": {
      "image/png": "[encoded data removed]",
      "text/plain": [
       "<matplotlib.figure.Figure at 0x7f579c011d90>"
      ]
     },
     "metadata": {},
     "output_type": "display_data"
    }
   ],
   "source": [
    "# Plot non-normalized confusion matrix\n",
    "plt.figure()\n",
    "plot_confusion_matrix(cnf_matrix, classes=class_names,\n",
    "                      title='Confusion matrix, without normalization')"
   ]
  },
  {
   "cell_type": "code",
   "execution_count": 72,
   "metadata": {},
   "outputs": [
    {
     "name": "stdout",
     "output_type": "stream",
     "text": [
      "Normalized confusion matrix\n",
      "[[ 0.65  0.02  0.01  0.    0.03  0.03  0.05  0.1   0.    0.1 ]\n",
      " [ 0.    0.97  0.01  0.    0.    0.    0.    0.01  0.    0.  ]\n",
      " [ 0.    0.03  0.9   0.    0.02  0.    0.    0.    0.    0.03]\n",
      " [ 0.01  0.01  0.01  0.92  0.01  0.    0.    0.    0.03  0.  ]\n",
      " [ 0.01  0.    0.    0.    0.98  0.    0.    0.01  0.    0.  ]\n",
      " [ 0.03  0.03  0.    0.01  0.05  0.83  0.04  0.    0.01  0.  ]\n",
      " [ 0.04  0.    0.    0.01  0.    0.02  0.9   0.01  0.    0.  ]\n",
      " [ 0.02  0.01  0.01  0.    0.06  0.    0.01  0.83  0.04  0.02]\n",
      " [ 0.    0.01  0.    0.04  0.01  0.01  0.    0.    0.92  0.  ]\n",
      " [ 0.    0.    0.05  0.    0.    0.    0.    0.03  0.    0.92]]\n"
     ]
    }
   ],
   "source": [
    "# Plot normalized confusion matrix\n",
    "plt.figure()\n",
    "plot_confusion_matrix(cnf_matrix, classes=class_names, normalize=True,\n",
    "                      title='Normalized confusion matrix')"
   ]
  },
  {
   "cell_type": "code",
   "execution_count": 21,
   "metadata": {},
   "outputs": [
    {
     "data": {
      "image/png": "[encoded data removed]",
      "text/plain": [
       "<matplotlib.figure.Figure at 0x7f57a77ddf10>"
      ]
     },
     "metadata": {},
     "output_type": "display_data"
    },
    {
     "data": {
      "image/png": "[encoded data removed]",
      "text/plain": [
       "<matplotlib.figure.Figure at 0x7f579c11fb10>"
      ]
     },
     "metadata": {},
     "output_type": "display_data"
    }
   ],
   "source": [
    "plt.show()"
   ]
  },
  {
   "cell_type": "markdown",
   "metadata": {
    "collapsed": true
   },
   "source": [
    "# Run the benchmark for the models\n",
    "\n",
    "CAUTION: do NOT enable washout because it makes the results VERY bad!"
   ]
  },
  {
   "cell_type": "code",
   "execution_count": 12,
   "metadata": {
    "collapsed": true
   },
   "outputs": [],
   "source": [
    "# set the required dictionaries\n",
    "\n",
    "string_names_dict_short = {\n",
    "    0: 'ESN',\n",
    "    1: 'DLR',\n",
    "    2: 'DLRB',\n",
    "    3: 'SCR',\n",
    "    4: 'CRJ',\n",
    "    5: 'FF-ESN',\n",
    "    6: 'SORM',\n",
    "    7: 'CyclicSORM'\n",
    "}\n",
    "\n",
    "string_names_dict_full = {\n",
    "    0: 'original ESN',\n",
    "    1: 'DelayLineReservoir',\n",
    "    2: 'DelayLineReservoirWithFeedback',\n",
    "    3: 'SimpleCycleReservoir',\n",
    "    4: 'CycleReservoirWithJumps',\n",
    "    5: 'FeedForwardESN',\n",
    "    6: 'SparseAndOrthogonalMatrices',\n",
    "    7: 'CyclicSparseAndOrthogonalMatrices'\n",
    "}\n",
    "\n",
    "nodes_dict = {\n",
    "    0: Oger.nodes.ReservoirNode,\n",
    "    1: Oger.nodes.DelayLineReservoirNode,\n",
    "    2: Oger.nodes.DelayLineWithFeedbackReservoirNode,\n",
    "    3: Oger.nodes.SimpleCycleReservoirNode,\n",
    "    4: Oger.nodes.CycleReservoirWithJumpsNode,\n",
    "    5: Oger.nodes.FeedForwardESNReservoir,\n",
    "    6: Oger.nodes.SparseAndOrthogonalMatricesReservoir,\n",
    "    7: Oger.nodes.CyclicSORMsReservoir\n",
    "}"
   ]
  },
  {
   "cell_type": "code",
   "execution_count": 13,
   "metadata": {
    "collapsed": true
   },
   "outputs": [],
   "source": [
    "# set the parameters\n",
    "\n",
    "input_scaling = 0.5 # best parameter for most models found through trial-error\n",
    "bias_scaling = 0.0 # best parameter for most models found through trial-error\n",
    "number_of_neurons = 100 # for the test run and the grid-search\n",
    "number_of_neurons_list = [50, 100, 150, 200] # for the evaluation\n",
    "number_of_runs = 10 # number of random runs per model"
   ]
  },
  {
   "cell_type": "code",
   "execution_count": 14,
   "metadata": {
    "scrolled": true
   },
   "outputs": [
    {
     "name": "stdout",
     "output_type": "stream",
     "text": [
      "  0% ? - ?Progress:  0.00625\n",
      "Progress:  0.0125\n",
      "Progress:  0.01875\n",
      "Progress:  0.025\n",
      "Progress:  0.03125\n",
      "Progress:  0.0375\n",
      "Progress:  0.04375\n",
      "Progress:  0.05\n",
      "Progress:  0.05625\n",
      "Progress:  0.0625\n",
      "Progress:  0.06875\n",
      "Progress:  0.075\n",
      "Progress:  0.08125\n",
      "Progress:  0.0875\n",
      "Progress:  0.09375\n",
      "Progress:  0.1\n",
      "Progress:  0.10625\n",
      "Progress:  0.1125\n",
      "Progress:  0.11875\n",
      "Progress:  0.125\n",
      "Progress:  0.13125\n",
      "Progress:  0.1375\n",
      "Progress:  0.14375\n",
      "Progress:  0.15\n",
      "Progress:  0.15625\n",
      "Progress:  0.1625\n",
      "Progress:  0.16875\n",
      "Progress:  0.175\n",
      "Progress:  0.18125\n",
      "Progress:  0.1875\n",
      "Progress:  0.19375\n",
      "Progress:  0.2\n",
      "Progress:  0.20625\n",
      "Progress:  0.2125\n",
      "Progress:  0.21875\n",
      "Progress:  0.225\n",
      "Progress:  0.23125\n",
      "Progress:  0.2375\n",
      "Progress:  0.24375\n",
      "Progress:  0.25\n",
      "Progress:  0.25625\n",
      "Progress:  0.2625\n",
      "Progress:  0.26875\n",
      "Progress:  0.275\n",
      "Progress:  0.28125\n",
      "Progress:  0.2875\n",
      "Progress:  0.29375\n",
      "Progress:  0.3\n",
      "Progress:  0.30625\n",
      "Progress:  0.3125\n",
      "Progress:  0.31875\n",
      "Progress:  0.325\n",
      "Progress:  0.33125\n",
      "Progress:  0.3375\n",
      "Progress:  0.34375\n",
      "Progress:  0.35\n",
      "Progress:  0.35625\n",
      "Progress:  0.3625\n",
      "Progress:  0.36875\n",
      "Progress:  0.375\n",
      "Progress:  0.38125\n",
      "Progress:  0.3875\n",
      "Progress:  0.39375\n",
      "Progress:  0.4\n",
      "Progress:  0.40625\n",
      "Progress:  0.4125\n",
      "Progress:  0.41875\n",
      "Progress:  0.425\n",
      "Progress:  0.43125\n",
      "Progress:  0.4375\n",
      "Progress:  0.44375\n",
      "Progress:  0.45\n",
      "Progress:  0.45625\n",
      "Progress:  0.4625\n",
      "Progress:  0.46875\n",
      "Progress:  0.475\n",
      "Progress:  0.48125\n",
      "Progress:  0.4875\n",
      "Progress:  0.49375\n",
      "Progress:  0.5\n",
      " 50% [0:55:09] - [0:55:09]Progress:  0.50625\n",
      "Progress:  0.5125\n",
      "Progress:  0.51875\n",
      "Progress:  0.525\n",
      "Progress:  0.53125\n",
      "Progress:  0.5375\n",
      "Progress:  0.54375\n",
      "Progress:  0.55\n",
      "Progress:  0.55625\n",
      "Progress:  0.5625\n",
      "Progress:  0.56875\n",
      "Progress:  0.575\n",
      "Progress:  0.58125\n",
      "Progress:  0.5875\n",
      "Progress:  0.59375\n",
      "Progress:  0.6\n",
      "Progress:  0.60625\n",
      "Progress:  0.6125\n",
      "Progress:  0.61875\n",
      "Progress:  0.625\n",
      "Progress:  0.63125\n",
      "Progress:  0.6375\n",
      "Progress:  0.64375\n",
      "Progress:  0.65\n",
      "Progress:  0.65625\n",
      "Progress:  0.6625\n",
      "Progress:  0.66875\n",
      "Progress:  0.675\n",
      "Progress:  0.68125\n",
      "Progress:  0.6875\n",
      "Progress:  0.69375\n",
      "Progress:  0.7\n",
      "Progress:  0.70625\n",
      "Progress:  0.7125\n",
      "Progress:  0.71875\n",
      "Progress:  0.725\n",
      "Progress:  0.73125\n",
      "Progress:  0.7375\n",
      "Progress:  0.74375\n",
      "Progress:  0.75\n",
      "Progress:  0.75625\n",
      "Progress:  0.7625\n",
      "Progress:  0.76875\n",
      "Progress:  0.775\n",
      "Progress:  0.78125\n",
      "Progress:  0.7875\n",
      "Progress:  0.79375\n",
      "Progress:  0.8\n",
      "Progress:  0.80625\n",
      "Progress:  0.8125\n",
      "Progress:  0.81875\n",
      "Progress:  0.825\n",
      "Progress:  0.83125\n",
      "Progress:  0.8375\n",
      "Progress:  0.84375\n",
      "Progress:  0.85\n",
      "Progress:  0.85625\n",
      "Progress:  0.8625\n",
      "Progress:  0.86875\n",
      "Progress:  0.875\n",
      "Progress:  0.88125\n",
      "Progress:  0.8875\n",
      "Progress:  0.89375\n",
      "Progress:  0.9\n",
      "Progress:  0.90625\n",
      "Progress:  0.9125\n",
      "Progress:  0.91875\n",
      "Progress:  0.925\n",
      "Progress:  0.93125\n",
      "Progress:  0.9375\n",
      "Progress:  0.94375\n",
      "Progress:  0.95\n",
      "Progress:  0.95625\n",
      "Progress:  0.9625\n",
      "Progress:  0.96875\n",
      "Progress:  0.975\n",
      "Progress:  0.98125\n",
      "Progress:  0.9875\n",
      "Progress:  0.99375\n",
      "Progress:  1.0\n",
      "100% [2:10:02] - [0:00:00]\n",
      "\r"
     ]
    }
   ],
   "source": [
    "# test the models\n",
    "\n",
    "model_accuracy = np.zeros([len(number_of_neurons_list), len(nodes_dict), number_of_runs])\n",
    "WER = np.zeros([len(number_of_neurons_list), len(nodes_dict), number_of_runs])\n",
    "\n",
    "count = 0\n",
    "max_count = model_accuracy.shape[0] * model_accuracy.shape[1] * model_accuracy.shape[2]\n",
    "\n",
    "mdp.utils.progressinfo(enumerate(number_of_neurons_list), style='timer', length=len(number_of_neurons_list))\n",
    "\n",
    "# run the test for every reservoir\n",
    "for i, reservoir_size in mdp.utils.progressinfo(enumerate(number_of_neurons_list), style='timer', length=len(number_of_neurons_list)):\n",
    "    for key, reservoir_node in nodes_dict.iteritems():\n",
    "        for j in range(number_of_runs):       \n",
    "            # create reservoir\n",
    "            reservoir = reservoir_node(input_dim=len(X_train[0, :]), output_dim=reservoir_size, \n",
    "                                       input_scaling=input_scaling, bias_scaling=bias_scaling)\n",
    "\n",
    "            # create a flow per digit\n",
    "            flows = []\n",
    "            for k in range(10):\n",
    "                readout = Oger.nodes.RidgeRegressionNode(10e-9, verbose=True)\n",
    "                flow = mdp.Flow([reservoir, readout], verbose=0)\n",
    "                flows.append(flow)\n",
    "                \n",
    "            # train each flow to corresponding digit\n",
    "            for k, flow in enumerate(flows):\n",
    "                data = correctly_format_data(X_train, y_train_multiple[:, k])\n",
    "                flow.train(data)\n",
    "                \n",
    "            # predict digit using all flows\n",
    "            y_predict_mult = np.zeros(shape=y_test_multiple.shape)\n",
    "            for k, flow in enumerate(flows):\n",
    "                y_predict = flow(X_test)\n",
    "                y_predict_mult[:, k] = y_predict[:, 0]\n",
    "                \n",
    "            # calculate accuracy\n",
    "            y_predict_single = select_classification_of_digits(y_predict_mult)\n",
    "            accuracy = calculate_accuracy(y_predict_single, y_test)\n",
    "            \n",
    "            # save result\n",
    "            model_accuracy[i, key, j] = accuracy\n",
    "            WER[i, key, j] = (1 - accuracy)\n",
    "            \n",
    "            count += 1\n",
    "            print \"Progress: \", str(float(count) / max_count)"
   ]
  },
  {
   "cell_type": "code",
   "execution_count": 15,
   "metadata": {
    "collapsed": true
   },
   "outputs": [],
   "source": [
    "# save the errors for later processing\n",
    "np.save(\"speech_recognition_accuracies\", model_accuracy)\n",
    "np.save(\"speech_recognition_WER\", WER)"
   ]
  }
 ],
 "metadata": {
  "kernelspec": {
   "display_name": "Python 2",
   "language": "python",
   "name": "python2"
  },
  "language_info": {
   "codemirror_mode": {
    "name": "ipython",
    "version": 2
   },
   "file_extension": ".py",
   "mimetype": "text/x-python",
   "name": "python",
   "nbconvert_exporter": "python",
   "pygments_lexer": "ipython2",
   "version": "2.7.14"
  }
 },
 "nbformat": 4,
 "nbformat_minor": 2
}
